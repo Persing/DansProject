{
 "cells": [
  {
   "cell_type": "code",
   "execution_count": 144,
   "metadata": {
    "collapsed": true
   },
   "outputs": [],
   "source": [
    "# Read in the list of Mechs\n",
    "import pandas as pd\n",
    "mech_list = pd.read_json('Files/T6M/mechs.json', orient='records')"
   ]
  },
  {
   "cell_type": "code",
   "execution_count": 145,
   "outputs": [
    {
     "name": "stdout",
     "output_type": "stream",
     "text": [
      "(3, 27)\n"
     ]
    },
    {
     "data": {
      "text/plain": "                               MarauderV_MDL   \nquirks                   [MADV, MISSILEBOAT]  \\\nscale                   X=1.14 Y=1.14 Z=1.14   \nuseSkinsFrom  Mech.Assault.Marauderii.MAD-4A   \n\n                                        MDV-DV   \nquirks        [MADV-HERO, DIFFICULTTOMAINTAIN]  \\\nscale                                      NaN   \nuseSkinsFrom                               NaN   \n\n                                        MDV-TR MDV-5A MDV-5B   \nquirks        [MADV-HERO, DIFFICULTTOMAINTAIN]     []     []  \\\nscale                                      NaN    NaN    NaN   \nuseSkinsFrom                               NaN    NaN    NaN   \n\n                                 MDV-5C MDV-5D MDV-5F MDV-5G MDV-5K  ...   \nquirks        [RUGGED1, EASYTOMAINTAIN]     []     []     []     []  ...  \\\nscale                               NaN    NaN    NaN    NaN    NaN  ...   \nuseSkinsFrom                        NaN    NaN    NaN    NaN    NaN  ...   \n\n                                                  MAD-5E             MAD-4Q   \nquirks        [DIFFICULTTOMAINTAIN, I-BAL1, MISSILEBOAT]  [RUGGED1, I-BAL2]  \\\nscale                                                NaN                NaN   \nuseSkinsFrom                                         NaN                NaN   \n\n                                                 MAD-5F   \nquirks        [NIMBLEJUMPER, DIFFICULTTOMAINTAIN, ICAP]  \\\nscale                                               NaN   \nuseSkinsFrom                                        NaN   \n\n                              MAD-4U                     MAD-4T   \nquirks        [RUGGED1, MISSILEBOAT]  [EASYTOMAINTAIN, RUGGED2]  \\\nscale                            NaN                        NaN   \nuseSkinsFrom                     NaN                        NaN   \n\n                                                  MAD-CL   \nquirks        [NIMBLEJUMPER, DIFFICULTTOMAINTAIN, MADCL]  \\\nscale                                                NaN   \nuseSkinsFrom                                         NaN   \n\n                                MarauderIII_MDL         MAD-MS         MAD-4J   \nquirks        [EASYTOMAINTAIN, RUGGED2, MADIII]  [MADIII-HERO]  [AUTOLOADER2]  \\\nscale                X=0.8563 Y=0.8563 Z=0.8563            NaN            NaN   \nuseSkinsFrom         Mech.Heavy.Marauder.MAD-3R            NaN            NaN   \n\n                    MAD-4N  \nquirks        [AUTOLOADER]  \nscale                  NaN  \nuseSkinsFrom           NaN  \n\n[3 rows x 27 columns]",
      "text/html": "<div>\n<style scoped>\n    .dataframe tbody tr th:only-of-type {\n        vertical-align: middle;\n    }\n\n    .dataframe tbody tr th {\n        vertical-align: top;\n    }\n\n    .dataframe thead th {\n        text-align: right;\n    }\n</style>\n<table border=\"1\" class=\"dataframe\">\n  <thead>\n    <tr style=\"text-align: right;\">\n      <th></th>\n      <th>MarauderV_MDL</th>\n      <th>MDV-DV</th>\n      <th>MDV-TR</th>\n      <th>MDV-5A</th>\n      <th>MDV-5B</th>\n      <th>MDV-5C</th>\n      <th>MDV-5D</th>\n      <th>MDV-5F</th>\n      <th>MDV-5G</th>\n      <th>MDV-5K</th>\n      <th>...</th>\n      <th>MAD-5E</th>\n      <th>MAD-4Q</th>\n      <th>MAD-5F</th>\n      <th>MAD-4U</th>\n      <th>MAD-4T</th>\n      <th>MAD-CL</th>\n      <th>MarauderIII_MDL</th>\n      <th>MAD-MS</th>\n      <th>MAD-4J</th>\n      <th>MAD-4N</th>\n    </tr>\n  </thead>\n  <tbody>\n    <tr>\n      <th>quirks</th>\n      <td>[MADV, MISSILEBOAT]</td>\n      <td>[MADV-HERO, DIFFICULTTOMAINTAIN]</td>\n      <td>[MADV-HERO, DIFFICULTTOMAINTAIN]</td>\n      <td>[]</td>\n      <td>[]</td>\n      <td>[RUGGED1, EASYTOMAINTAIN]</td>\n      <td>[]</td>\n      <td>[]</td>\n      <td>[]</td>\n      <td>[]</td>\n      <td>...</td>\n      <td>[DIFFICULTTOMAINTAIN, I-BAL1, MISSILEBOAT]</td>\n      <td>[RUGGED1, I-BAL2]</td>\n      <td>[NIMBLEJUMPER, DIFFICULTTOMAINTAIN, ICAP]</td>\n      <td>[RUGGED1, MISSILEBOAT]</td>\n      <td>[EASYTOMAINTAIN, RUGGED2]</td>\n      <td>[NIMBLEJUMPER, DIFFICULTTOMAINTAIN, MADCL]</td>\n      <td>[EASYTOMAINTAIN, RUGGED2, MADIII]</td>\n      <td>[MADIII-HERO]</td>\n      <td>[AUTOLOADER2]</td>\n      <td>[AUTOLOADER]</td>\n    </tr>\n    <tr>\n      <th>scale</th>\n      <td>X=1.14 Y=1.14 Z=1.14</td>\n      <td>NaN</td>\n      <td>NaN</td>\n      <td>NaN</td>\n      <td>NaN</td>\n      <td>NaN</td>\n      <td>NaN</td>\n      <td>NaN</td>\n      <td>NaN</td>\n      <td>NaN</td>\n      <td>...</td>\n      <td>NaN</td>\n      <td>NaN</td>\n      <td>NaN</td>\n      <td>NaN</td>\n      <td>NaN</td>\n      <td>NaN</td>\n      <td>X=0.8563 Y=0.8563 Z=0.8563</td>\n      <td>NaN</td>\n      <td>NaN</td>\n      <td>NaN</td>\n    </tr>\n    <tr>\n      <th>useSkinsFrom</th>\n      <td>Mech.Assault.Marauderii.MAD-4A</td>\n      <td>NaN</td>\n      <td>NaN</td>\n      <td>NaN</td>\n      <td>NaN</td>\n      <td>NaN</td>\n      <td>NaN</td>\n      <td>NaN</td>\n      <td>NaN</td>\n      <td>NaN</td>\n      <td>...</td>\n      <td>NaN</td>\n      <td>NaN</td>\n      <td>NaN</td>\n      <td>NaN</td>\n      <td>NaN</td>\n      <td>NaN</td>\n      <td>Mech.Heavy.Marauder.MAD-3R</td>\n      <td>NaN</td>\n      <td>NaN</td>\n      <td>NaN</td>\n    </tr>\n  </tbody>\n</table>\n<p>3 rows × 27 columns</p>\n</div>"
     },
     "execution_count": 145,
     "metadata": {},
     "output_type": "execute_result"
    }
   ],
   "source": [
    "# Peek at the first few rows\n",
    "print(mech_list.shape)\n",
    "mech_list.head()"
   ],
   "metadata": {
    "collapsed": false
   }
  },
  {
   "cell_type": "code",
   "execution_count": 146,
   "outputs": [],
   "source": [
    "#swap the columns and rows\n",
    "mech_list = mech_list.transpose()"
   ],
   "metadata": {
    "collapsed": false
   }
  },
  {
   "cell_type": "code",
   "execution_count": 147,
   "outputs": [],
   "source": [
    "mech_list2 = pd.read_json('Files/ExpandedMechQuirks/mechs.json', orient='values')"
   ],
   "metadata": {
    "collapsed": false
   }
  },
  {
   "cell_type": "code",
   "execution_count": 148,
   "outputs": [
    {
     "name": "stdout",
     "output_type": "stream",
     "text": [
      "(1, 216)\n"
     ]
    },
    {
     "data": {
      "text/plain": "                                          Annihilator_MDL   \nquirks  [ANNIHILATOR, [EMQ], BSC_SYSTEM, [BTHBS], EASY...  \\\n\n                                ANH-MB   \nquirks  [[YAML], ANH-MB, ANH-HERO, []]  \\\n\n                                               Archer_MDL     ARC-2RB   \nquirks  [ARCHER, [EMQ], MISSILERY_SUITE, [BTHBS], [ARC...  [SLDF, []]  \\\n\n             ARC-2P                  ARC-AGC                  ARC-T   \nquirks  [MELEE, []]  [ARC-AGC, ARC-HERO, []]  [ARC-T, ARC-HERO, []]  \\\n\n                                             Assassin_MDL       ASN-25   \nquirks  [ASSASSIN, [EMQ], INTERCEPT_SYSTEM, [BTHBS], E...  [MELEE, []]  \\\n\n                        ASN-DD  ...                  WHM-BW   \nquirks  [ASN-DD, ASN-HERO, []]  ...  [WHM-BW, WHM-HERO, []]  \\\n\n                                            Wolfhound_MDL   \nquirks  [WOLFHOUND, [EMQ], EASYTOMAINTAIN, [BTBMM], [S...  \\\n\n                        WLF-GR   \nquirks  [WLF-GR, WLF-HERO, []]  \\\n\n                                            Wolverine_MDL       WVR-6P   \nquirks  [WOLVERINE, [EMQ], CMD_MECH, [BTBMM], [MegaMek...  [MELEE, []]  \\\n\n                              WVR-7H                  WVR-Q   \nquirks  [WVR-7H, WVR-HERO, SLDF, []]  [WVR-Q, WVR-HERO, []]  \\\n\n                                                 Zeus_MDL   \nquirks  [ZEUS, [EMQ], BARREL_FIST_R, [BTBMM], EASYTOMA...  \\\n\n                        ZEU-SK     \nquirks  [ZEU-SK, ZEU-HERO, []]  0  \n\n[1 rows x 216 columns]",
      "text/html": "<div>\n<style scoped>\n    .dataframe tbody tr th:only-of-type {\n        vertical-align: middle;\n    }\n\n    .dataframe tbody tr th {\n        vertical-align: top;\n    }\n\n    .dataframe thead th {\n        text-align: right;\n    }\n</style>\n<table border=\"1\" class=\"dataframe\">\n  <thead>\n    <tr style=\"text-align: right;\">\n      <th></th>\n      <th>Annihilator_MDL</th>\n      <th>ANH-MB</th>\n      <th>Archer_MDL</th>\n      <th>ARC-2RB</th>\n      <th>ARC-2P</th>\n      <th>ARC-AGC</th>\n      <th>ARC-T</th>\n      <th>Assassin_MDL</th>\n      <th>ASN-25</th>\n      <th>ASN-DD</th>\n      <th>...</th>\n      <th>WHM-BW</th>\n      <th>Wolfhound_MDL</th>\n      <th>WLF-GR</th>\n      <th>Wolverine_MDL</th>\n      <th>WVR-6P</th>\n      <th>WVR-7H</th>\n      <th>WVR-Q</th>\n      <th>Zeus_MDL</th>\n      <th>ZEU-SK</th>\n      <th></th>\n    </tr>\n  </thead>\n  <tbody>\n    <tr>\n      <th>quirks</th>\n      <td>[ANNIHILATOR, [EMQ], BSC_SYSTEM, [BTHBS], EASY...</td>\n      <td>[[YAML], ANH-MB, ANH-HERO, []]</td>\n      <td>[ARCHER, [EMQ], MISSILERY_SUITE, [BTHBS], [ARC...</td>\n      <td>[SLDF, []]</td>\n      <td>[MELEE, []]</td>\n      <td>[ARC-AGC, ARC-HERO, []]</td>\n      <td>[ARC-T, ARC-HERO, []]</td>\n      <td>[ASSASSIN, [EMQ], INTERCEPT_SYSTEM, [BTHBS], E...</td>\n      <td>[MELEE, []]</td>\n      <td>[ASN-DD, ASN-HERO, []]</td>\n      <td>...</td>\n      <td>[WHM-BW, WHM-HERO, []]</td>\n      <td>[WOLFHOUND, [EMQ], EASYTOMAINTAIN, [BTBMM], [S...</td>\n      <td>[WLF-GR, WLF-HERO, []]</td>\n      <td>[WOLVERINE, [EMQ], CMD_MECH, [BTBMM], [MegaMek...</td>\n      <td>[MELEE, []]</td>\n      <td>[WVR-7H, WVR-HERO, SLDF, []]</td>\n      <td>[WVR-Q, WVR-HERO, []]</td>\n      <td>[ZEUS, [EMQ], BARREL_FIST_R, [BTBMM], EASYTOMA...</td>\n      <td>[ZEU-SK, ZEU-HERO, []]</td>\n      <td>0</td>\n    </tr>\n  </tbody>\n</table>\n<p>1 rows × 216 columns</p>\n</div>"
     },
     "execution_count": 148,
     "metadata": {},
     "output_type": "execute_result"
    }
   ],
   "source": [
    "print(mech_list2.shape)\n",
    "mech_list2.head()"
   ],
   "metadata": {
    "collapsed": false
   }
  },
  {
   "cell_type": "code",
   "execution_count": 149,
   "outputs": [],
   "source": [
    "#swap the columns and rows\n",
    "mech_list2 = mech_list2.transpose()\n"
   ],
   "metadata": {
    "collapsed": false
   }
  },
  {
   "cell_type": "code",
   "execution_count": 150,
   "outputs": [
    {
     "data": {
      "text/plain": "                                                     quirks\nWVR-7H                         [WVR-7H, WVR-HERO, SLDF, []]\nWVR-Q                                 [WVR-Q, WVR-HERO, []]\nZeus_MDL  [ZEUS, [EMQ], BARREL_FIST_R, [BTBMM], EASYTOMA...\nZEU-SK                               [ZEU-SK, ZEU-HERO, []]\n                                                          0",
      "text/html": "<div>\n<style scoped>\n    .dataframe tbody tr th:only-of-type {\n        vertical-align: middle;\n    }\n\n    .dataframe tbody tr th {\n        vertical-align: top;\n    }\n\n    .dataframe thead th {\n        text-align: right;\n    }\n</style>\n<table border=\"1\" class=\"dataframe\">\n  <thead>\n    <tr style=\"text-align: right;\">\n      <th></th>\n      <th>quirks</th>\n    </tr>\n  </thead>\n  <tbody>\n    <tr>\n      <th>WVR-7H</th>\n      <td>[WVR-7H, WVR-HERO, SLDF, []]</td>\n    </tr>\n    <tr>\n      <th>WVR-Q</th>\n      <td>[WVR-Q, WVR-HERO, []]</td>\n    </tr>\n    <tr>\n      <th>Zeus_MDL</th>\n      <td>[ZEUS, [EMQ], BARREL_FIST_R, [BTBMM], EASYTOMA...</td>\n    </tr>\n    <tr>\n      <th>ZEU-SK</th>\n      <td>[ZEU-SK, ZEU-HERO, []]</td>\n    </tr>\n    <tr>\n      <th></th>\n      <td>0</td>\n    </tr>\n  </tbody>\n</table>\n</div>"
     },
     "execution_count": 150,
     "metadata": {},
     "output_type": "execute_result"
    }
   ],
   "source": [
    "mech_list2.tail()"
   ],
   "metadata": {
    "collapsed": false
   }
  },
  {
   "cell_type": "code",
   "execution_count": 151,
   "outputs": [],
   "source": [
    "# rename the first column to mech\n",
    "mech_list.index.name = 'mech'\n",
    "mech_list2.index.name = 'mech'"
   ],
   "metadata": {
    "collapsed": false
   }
  },
  {
   "cell_type": "code",
   "execution_count": 152,
   "outputs": [],
   "source": [
    "# combine the two dataframes and merge the quirk columns when the first column matches\n",
    "mech_list = pd.merge(mech_list, mech_list2, on='mech', how='outer')\n"
   ],
   "metadata": {
    "collapsed": false
   }
  },
  {
   "cell_type": "code",
   "execution_count": 153,
   "outputs": [
    {
     "name": "stdout",
     "output_type": "stream",
     "text": [
      "(3, 245)\n"
     ]
    }
   ],
   "source": [
    "# import the mech quirks for YAML\n",
    "mech_list3 = pd.read_json('Files/YAML/mechs.json', orient='values')\n",
    "print(mech_list3.shape)"
   ],
   "metadata": {
    "collapsed": false
   }
  },
  {
   "cell_type": "code",
   "execution_count": 154,
   "outputs": [
    {
     "data": {
      "text/plain": "                                            SavageWolf_MDL   \nquirks   [STABLE, NON-STANDARD-PARTS, PROTECTED-ACTUATO...  \\\ncomment                                                NaN   \nscale                                                  NaN   \n\n                                                 TBR-PRIME   Annihilator_MDL   \nquirks   [WEAK-HEAD-1, IMPROVED-TARGETING, clan-mech-sa...  [EASYTOMAINTAIN]  \\\ncomment                                                NaN               NaN   \nscale                                                  NaN               NaN   \n\n                     ANH-MB   \nquirks   [ANH-MB, ANH-HERO]  \\\ncomment                 NaN   \nscale                   NaN   \n\n                                                Archer_MDL ARC-2Rb   ARC-2P   \nquirks   [BATTLEFISTS, CMD-MECH, STABLE, UBIQUITOUS, AR...  [SLDF]  [MELEE]  \\\ncomment                                                NaN     NaN      NaN   \nscale                                                  NaN     NaN      NaN   \n\n                     ARC-T              ARC-AGC   \nquirks   [ARC-T, ARC-HERO]  [ARC-AGC, ARC-HERO]  \\\ncomment                NaN                  NaN   \nscale                  NaN                  NaN   \n\n                                              Assassin_MDL  ...   \nquirks   [EASYTOMAINTAIN, CRAMPED-COCKPIT, NON-STANDARD...  ...  \\\ncomment                                                NaN  ...   \nscale                                                  NaN  ...   \n\n            Wolfhound_MDL              WLF-GR                   WLF-1 (R)   \nquirks   [EASYTOMAINTAIN]  [WLF-GR, WLF-HERO]  [EASYTOMAINTAIN, WLF-HERO]  \\\ncomment               NaN                 NaN                         NaN   \nscale                 NaN                 NaN                         NaN   \n\n                                             Wolverine_MDL   \nquirks   [CMD-MECH, IMPROVED-COMS, PROTECTED-ACTUATOR, ...  \\\ncomment                                                NaN   \nscale                                                  NaN   \n\n                                                WVR-6R (P)   \nquirks   [CMD-MECH, IMPROVED-COMS, PROTECTED-ACTUATOR, ...  \\\ncomment                                                NaN   \nscale                                                  NaN   \n\n                           WVR-7H              WVR-Q   \nquirks   [WVR-7H, SLDF, WVR-HERO]  [WVR-Q, WVR-HERO]  \\\ncomment                       NaN                NaN   \nscale                         NaN                NaN   \n\n                                  Zeus_MDL                ZEU-6Y   \nquirks   [BARREL-FIST (R), EASYTOMAINTAIN]  [IMP-COOLING-BINARY]  \\\ncomment                                NaN                   NaN   \nscale                                  NaN                   NaN   \n\n                     ZEU-SK  \nquirks   [ZEU-SK, ZEU-HERO]  \ncomment                 NaN  \nscale                   NaN  \n\n[3 rows x 245 columns]",
      "text/html": "<div>\n<style scoped>\n    .dataframe tbody tr th:only-of-type {\n        vertical-align: middle;\n    }\n\n    .dataframe tbody tr th {\n        vertical-align: top;\n    }\n\n    .dataframe thead th {\n        text-align: right;\n    }\n</style>\n<table border=\"1\" class=\"dataframe\">\n  <thead>\n    <tr style=\"text-align: right;\">\n      <th></th>\n      <th>SavageWolf_MDL</th>\n      <th>TBR-PRIME</th>\n      <th>Annihilator_MDL</th>\n      <th>ANH-MB</th>\n      <th>Archer_MDL</th>\n      <th>ARC-2Rb</th>\n      <th>ARC-2P</th>\n      <th>ARC-T</th>\n      <th>ARC-AGC</th>\n      <th>Assassin_MDL</th>\n      <th>...</th>\n      <th>Wolfhound_MDL</th>\n      <th>WLF-GR</th>\n      <th>WLF-1 (R)</th>\n      <th>Wolverine_MDL</th>\n      <th>WVR-6R (P)</th>\n      <th>WVR-7H</th>\n      <th>WVR-Q</th>\n      <th>Zeus_MDL</th>\n      <th>ZEU-6Y</th>\n      <th>ZEU-SK</th>\n    </tr>\n  </thead>\n  <tbody>\n    <tr>\n      <th>quirks</th>\n      <td>[STABLE, NON-STANDARD-PARTS, PROTECTED-ACTUATO...</td>\n      <td>[WEAK-HEAD-1, IMPROVED-TARGETING, clan-mech-sa...</td>\n      <td>[EASYTOMAINTAIN]</td>\n      <td>[ANH-MB, ANH-HERO]</td>\n      <td>[BATTLEFISTS, CMD-MECH, STABLE, UBIQUITOUS, AR...</td>\n      <td>[SLDF]</td>\n      <td>[MELEE]</td>\n      <td>[ARC-T, ARC-HERO]</td>\n      <td>[ARC-AGC, ARC-HERO]</td>\n      <td>[EASYTOMAINTAIN, CRAMPED-COCKPIT, NON-STANDARD...</td>\n      <td>...</td>\n      <td>[EASYTOMAINTAIN]</td>\n      <td>[WLF-GR, WLF-HERO]</td>\n      <td>[EASYTOMAINTAIN, WLF-HERO]</td>\n      <td>[CMD-MECH, IMPROVED-COMS, PROTECTED-ACTUATOR, ...</td>\n      <td>[CMD-MECH, IMPROVED-COMS, PROTECTED-ACTUATOR, ...</td>\n      <td>[WVR-7H, SLDF, WVR-HERO]</td>\n      <td>[WVR-Q, WVR-HERO]</td>\n      <td>[BARREL-FIST (R), EASYTOMAINTAIN]</td>\n      <td>[IMP-COOLING-BINARY]</td>\n      <td>[ZEU-SK, ZEU-HERO]</td>\n    </tr>\n    <tr>\n      <th>comment</th>\n      <td>NaN</td>\n      <td>NaN</td>\n      <td>NaN</td>\n      <td>NaN</td>\n      <td>NaN</td>\n      <td>NaN</td>\n      <td>NaN</td>\n      <td>NaN</td>\n      <td>NaN</td>\n      <td>NaN</td>\n      <td>...</td>\n      <td>NaN</td>\n      <td>NaN</td>\n      <td>NaN</td>\n      <td>NaN</td>\n      <td>NaN</td>\n      <td>NaN</td>\n      <td>NaN</td>\n      <td>NaN</td>\n      <td>NaN</td>\n      <td>NaN</td>\n    </tr>\n    <tr>\n      <th>scale</th>\n      <td>NaN</td>\n      <td>NaN</td>\n      <td>NaN</td>\n      <td>NaN</td>\n      <td>NaN</td>\n      <td>NaN</td>\n      <td>NaN</td>\n      <td>NaN</td>\n      <td>NaN</td>\n      <td>NaN</td>\n      <td>...</td>\n      <td>NaN</td>\n      <td>NaN</td>\n      <td>NaN</td>\n      <td>NaN</td>\n      <td>NaN</td>\n      <td>NaN</td>\n      <td>NaN</td>\n      <td>NaN</td>\n      <td>NaN</td>\n      <td>NaN</td>\n    </tr>\n  </tbody>\n</table>\n<p>3 rows × 245 columns</p>\n</div>"
     },
     "execution_count": 154,
     "metadata": {},
     "output_type": "execute_result"
    }
   ],
   "source": [
    "mech_list3.head()"
   ],
   "metadata": {
    "collapsed": false
   }
  },
  {
   "cell_type": "code",
   "execution_count": 155,
   "outputs": [],
   "source": [
    "#swap the columns and rows\n",
    "mech_list3 = mech_list3.transpose()"
   ],
   "metadata": {
    "collapsed": false
   }
  },
  {
   "cell_type": "code",
   "execution_count": 156,
   "outputs": [],
   "source": [
    "# rename the first column to mech\n",
    "mech_list3.index.name = 'mech'"
   ],
   "metadata": {
    "collapsed": false
   }
  },
  {
   "cell_type": "code",
   "execution_count": 157,
   "outputs": [
    {
     "data": {
      "text/plain": "                                                            quirks comment   \nmech                                                                         \nSavageWolf_MDL   [STABLE, NON-STANDARD-PARTS, PROTECTED-ACTUATO...     NaN  \\\nTBR-PRIME        [WEAK-HEAD-1, IMPROVED-TARGETING, clan-mech-sa...     NaN   \nAnnihilator_MDL                                   [EASYTOMAINTAIN]     NaN   \nANH-MB                                          [ANH-MB, ANH-HERO]     NaN   \nArcher_MDL       [BATTLEFISTS, CMD-MECH, STABLE, UBIQUITOUS, AR...     NaN   \n\n                scale  \nmech                   \nSavageWolf_MDL    NaN  \nTBR-PRIME         NaN  \nAnnihilator_MDL   NaN  \nANH-MB            NaN  \nArcher_MDL        NaN  ",
      "text/html": "<div>\n<style scoped>\n    .dataframe tbody tr th:only-of-type {\n        vertical-align: middle;\n    }\n\n    .dataframe tbody tr th {\n        vertical-align: top;\n    }\n\n    .dataframe thead th {\n        text-align: right;\n    }\n</style>\n<table border=\"1\" class=\"dataframe\">\n  <thead>\n    <tr style=\"text-align: right;\">\n      <th></th>\n      <th>quirks</th>\n      <th>comment</th>\n      <th>scale</th>\n    </tr>\n    <tr>\n      <th>mech</th>\n      <th></th>\n      <th></th>\n      <th></th>\n    </tr>\n  </thead>\n  <tbody>\n    <tr>\n      <th>SavageWolf_MDL</th>\n      <td>[STABLE, NON-STANDARD-PARTS, PROTECTED-ACTUATO...</td>\n      <td>NaN</td>\n      <td>NaN</td>\n    </tr>\n    <tr>\n      <th>TBR-PRIME</th>\n      <td>[WEAK-HEAD-1, IMPROVED-TARGETING, clan-mech-sa...</td>\n      <td>NaN</td>\n      <td>NaN</td>\n    </tr>\n    <tr>\n      <th>Annihilator_MDL</th>\n      <td>[EASYTOMAINTAIN]</td>\n      <td>NaN</td>\n      <td>NaN</td>\n    </tr>\n    <tr>\n      <th>ANH-MB</th>\n      <td>[ANH-MB, ANH-HERO]</td>\n      <td>NaN</td>\n      <td>NaN</td>\n    </tr>\n    <tr>\n      <th>Archer_MDL</th>\n      <td>[BATTLEFISTS, CMD-MECH, STABLE, UBIQUITOUS, AR...</td>\n      <td>NaN</td>\n      <td>NaN</td>\n    </tr>\n  </tbody>\n</table>\n</div>"
     },
     "execution_count": 157,
     "metadata": {},
     "output_type": "execute_result"
    }
   ],
   "source": [
    "mech_list3.head()"
   ],
   "metadata": {
    "collapsed": false
   }
  },
  {
   "cell_type": "code",
   "execution_count": 158,
   "outputs": [
    {
     "name": "stdout",
     "output_type": "stream",
     "text": [
      "(302, 7)\n"
     ]
    },
    {
     "data": {
      "text/plain": "                                                            quirks comment   \nmech                                                                         \nSavageWolf_MDL   [STABLE, NON-STANDARD-PARTS, PROTECTED-ACTUATO...     NaN  \\\nTBR-PRIME        [WEAK-HEAD-1, IMPROVED-TARGETING, clan-mech-sa...     NaN   \nAnnihilator_MDL                                   [EASYTOMAINTAIN]     NaN   \nANH-MB                                          [ANH-MB, ANH-HERO]     NaN   \nArcher_MDL       [BATTLEFISTS, CMD-MECH, STABLE, UBIQUITOUS, AR...     NaN   \n\n                scale  \nmech                   \nSavageWolf_MDL    NaN  \nTBR-PRIME         NaN  \nAnnihilator_MDL   NaN  \nANH-MB            NaN  \nArcher_MDL        NaN  ",
      "text/html": "<div>\n<style scoped>\n    .dataframe tbody tr th:only-of-type {\n        vertical-align: middle;\n    }\n\n    .dataframe tbody tr th {\n        vertical-align: top;\n    }\n\n    .dataframe thead th {\n        text-align: right;\n    }\n</style>\n<table border=\"1\" class=\"dataframe\">\n  <thead>\n    <tr style=\"text-align: right;\">\n      <th></th>\n      <th>quirks</th>\n      <th>comment</th>\n      <th>scale</th>\n    </tr>\n    <tr>\n      <th>mech</th>\n      <th></th>\n      <th></th>\n      <th></th>\n    </tr>\n  </thead>\n  <tbody>\n    <tr>\n      <th>SavageWolf_MDL</th>\n      <td>[STABLE, NON-STANDARD-PARTS, PROTECTED-ACTUATO...</td>\n      <td>NaN</td>\n      <td>NaN</td>\n    </tr>\n    <tr>\n      <th>TBR-PRIME</th>\n      <td>[WEAK-HEAD-1, IMPROVED-TARGETING, clan-mech-sa...</td>\n      <td>NaN</td>\n      <td>NaN</td>\n    </tr>\n    <tr>\n      <th>Annihilator_MDL</th>\n      <td>[EASYTOMAINTAIN]</td>\n      <td>NaN</td>\n      <td>NaN</td>\n    </tr>\n    <tr>\n      <th>ANH-MB</th>\n      <td>[ANH-MB, ANH-HERO]</td>\n      <td>NaN</td>\n      <td>NaN</td>\n    </tr>\n    <tr>\n      <th>Archer_MDL</th>\n      <td>[BATTLEFISTS, CMD-MECH, STABLE, UBIQUITOUS, AR...</td>\n      <td>NaN</td>\n      <td>NaN</td>\n    </tr>\n  </tbody>\n</table>\n</div>"
     },
     "execution_count": 158,
     "metadata": {},
     "output_type": "execute_result"
    }
   ],
   "source": [
    "# combine the two dataframes and merge the quirk columns when the first column matches\n",
    "mech_list = pd.merge(mech_list, mech_list3, on='mech', how='outer')\n",
    "print(mech_list.shape)\n",
    "mech_list3.head()"
   ],
   "metadata": {
    "collapsed": false
   }
  },
  {
   "cell_type": "code",
   "execution_count": 197,
   "outputs": [
    {
     "data": {
      "text/plain": "       useSkinsFrom                                 quirks comment\nmech                                                              \nANH-MB          NaN  { ANH-MB, ANH-MB,  ANH-HERO,  , YAML}     NaN",
      "text/html": "<div>\n<style scoped>\n    .dataframe tbody tr th:only-of-type {\n        vertical-align: middle;\n    }\n\n    .dataframe tbody tr th {\n        vertical-align: top;\n    }\n\n    .dataframe thead th {\n        text-align: right;\n    }\n</style>\n<table border=\"1\" class=\"dataframe\">\n  <thead>\n    <tr style=\"text-align: right;\">\n      <th></th>\n      <th>useSkinsFrom</th>\n      <th>quirks</th>\n      <th>comment</th>\n    </tr>\n    <tr>\n      <th>mech</th>\n      <th></th>\n      <th></th>\n      <th></th>\n    </tr>\n  </thead>\n  <tbody>\n    <tr>\n      <th>ANH-MB</th>\n      <td>NaN</td>\n      <td>{ ANH-MB, ANH-MB,  ANH-HERO,  , YAML}</td>\n      <td>NaN</td>\n    </tr>\n  </tbody>\n</table>\n</div>"
     },
     "execution_count": 197,
     "metadata": {},
     "output_type": "execute_result"
    }
   ],
   "source": [
    "# List all of the mechs that have the name ANH-MB\n",
    "mech_list[mech_list.index == 'ANH-MB']"
   ],
   "metadata": {
    "collapsed": false
   }
  },
  {
   "cell_type": "code",
   "execution_count": 160,
   "outputs": [],
   "source": [
    "# Combine all the quirks into one column\n",
    "\n",
    "\n",
    "# get all the quirks. convert items to a list of strings, change nan to and empty list, join the lists\n",
    "mech_list['quirks'] = mech_list[['quirks_x', 'quirks_y', 'quirks']].apply(lambda x: ','.join(x.dropna().astype(str)), axis=1)"
   ],
   "metadata": {
    "collapsed": false
   }
  },
  {
   "cell_type": "code",
   "execution_count": 161,
   "outputs": [],
   "source": [
    "# drop the all columns with a suffix of _x or _y\n",
    "mech_list = mech_list.drop(mech_list.columns[mech_list.columns.str.endswith('_x')], axis=1)\n",
    "mech_list = mech_list.drop(mech_list.columns[mech_list.columns.str.endswith('_y')], axis=1)"
   ],
   "metadata": {
    "collapsed": false
   }
  },
  {
   "cell_type": "code",
   "execution_count": 163,
   "outputs": [
    {
     "data": {
      "text/plain": "                                 useSkinsFrom   \nmech                                            \nMarauderV_MDL  Mech.Assault.Marauderii.MAD-4A  \\\nMDV-DV                                    NaN   \nMDV-TR                                    NaN   \nMDV-5A                                    NaN   \nMDV-5B                                    NaN   \n\n                                             quirks comment  \nmech                                                         \nMarauderV_MDL               ['MADV', 'MISSILEBOAT']     NaN  \nMDV-DV         ['MADV-HERO', 'DIFFICULTTOMAINTAIN']     NaN  \nMDV-TR         ['MADV-HERO', 'DIFFICULTTOMAINTAIN']     NaN  \nMDV-5A                                           []     NaN  \nMDV-5B                                           []     NaN  ",
      "text/html": "<div>\n<style scoped>\n    .dataframe tbody tr th:only-of-type {\n        vertical-align: middle;\n    }\n\n    .dataframe tbody tr th {\n        vertical-align: top;\n    }\n\n    .dataframe thead th {\n        text-align: right;\n    }\n</style>\n<table border=\"1\" class=\"dataframe\">\n  <thead>\n    <tr style=\"text-align: right;\">\n      <th></th>\n      <th>useSkinsFrom</th>\n      <th>quirks</th>\n      <th>comment</th>\n    </tr>\n    <tr>\n      <th>mech</th>\n      <th></th>\n      <th></th>\n      <th></th>\n    </tr>\n  </thead>\n  <tbody>\n    <tr>\n      <th>MarauderV_MDL</th>\n      <td>Mech.Assault.Marauderii.MAD-4A</td>\n      <td>['MADV', 'MISSILEBOAT']</td>\n      <td>NaN</td>\n    </tr>\n    <tr>\n      <th>MDV-DV</th>\n      <td>NaN</td>\n      <td>['MADV-HERO', 'DIFFICULTTOMAINTAIN']</td>\n      <td>NaN</td>\n    </tr>\n    <tr>\n      <th>MDV-TR</th>\n      <td>NaN</td>\n      <td>['MADV-HERO', 'DIFFICULTTOMAINTAIN']</td>\n      <td>NaN</td>\n    </tr>\n    <tr>\n      <th>MDV-5A</th>\n      <td>NaN</td>\n      <td>[]</td>\n      <td>NaN</td>\n    </tr>\n    <tr>\n      <th>MDV-5B</th>\n      <td>NaN</td>\n      <td>[]</td>\n      <td>NaN</td>\n    </tr>\n  </tbody>\n</table>\n</div>"
     },
     "execution_count": 163,
     "metadata": {},
     "output_type": "execute_result"
    }
   ],
   "source": [
    "# get index with the value of mech\n",
    "mech_list.head()"
   ],
   "metadata": {
    "collapsed": false
   }
  },
  {
   "cell_type": "code",
   "execution_count": 164,
   "outputs": [],
   "source": [
    "# Flatten the list of quirks into a single 1 dimensional list\n",
    "import numpy as np\n",
    "test = mech_list['quirks'].apply(lambda x: np.ravel(x))\n"
   ],
   "metadata": {
    "collapsed": false
   }
  },
  {
   "cell_type": "code",
   "execution_count": 165,
   "outputs": [
    {
     "data": {
      "text/plain": "mech\nMarauderV_MDL                            [['MADV', 'MISSILEBOAT']]\nMDV-DV                      [['MADV-HERO', 'DIFFICULTTOMAINTAIN']]\nMDV-TR                      [['MADV-HERO', 'DIFFICULTTOMAINTAIN']]\nMDV-5A                                                        [[]]\nMDV-5B                                                        [[]]\n                                       ...                        \nUM-K9 (S)        [['FULL-TWIST', 'NARROW-PROFILE', 'UM-ASSAULT'...\nWHM-9D                                                [['WHM-9D']]\nWLF-1 (R)                         [['EASYTOMAINTAIN', 'WLF-HERO']]\nWVR-6R (P)       [['CMD-MECH', 'IMPROVED-COMS', 'PROTECTED-ACTU...\nZEU-6Y                                    [['IMP-COOLING-BINARY']]\nName: quirks, Length: 302, dtype: object"
     },
     "execution_count": 165,
     "metadata": {},
     "output_type": "execute_result"
    }
   ],
   "source": [
    "test"
   ],
   "metadata": {
    "collapsed": false
   }
  },
  {
   "cell_type": "code",
   "execution_count": 142,
   "outputs": [
    {
     "data": {
      "text/plain": "mech\nMarauderV_MDL                           [['MADV',  'MISSILEBOAT']]\nMDV-DV                     [['MADV-HERO',  'DIFFICULTTOMAINTAIN']]\nMDV-TR                     [['MADV-HERO',  'DIFFICULTTOMAINTAIN']]\nMDV-5A                                                        [[]]\nMDV-5B                                                        [[]]\n                                       ...                        \nUM-K9 (S)        [['FULL-TWIST',  'NARROW-PROFILE',  'UM-ASSAUL...\nWHM-9D                                                [['WHM-9D']]\nWLF-1 (R)                        [['EASYTOMAINTAIN',  'WLF-HERO']]\nWVR-6R (P)       [['CMD-MECH',  'IMPROVED-COMS',  'PROTECTED-AC...\nZEU-6Y                                    [['IMP-COOLING-BINARY']]\nName: quirks, Length: 302, dtype: object"
     },
     "execution_count": 142,
     "metadata": {},
     "output_type": "execute_result"
    }
   ],
   "source": [
    "mech_list['quirks']"
   ],
   "metadata": {
    "collapsed": false
   }
  },
  {
   "cell_type": "code",
   "execution_count": 169,
   "outputs": [
    {
     "data": {
      "text/plain": "useSkinsFrom    object\nquirks          object\ncomment         object\ndtype: object"
     },
     "execution_count": 169,
     "metadata": {},
     "output_type": "execute_result"
    }
   ],
   "source": [
    "#get the data type of the quirks column\n",
    "mech_list.dtypes"
   ],
   "metadata": {
    "collapsed": false
   }
  },
  {
   "cell_type": "code",
   "execution_count": 179,
   "outputs": [],
   "source": [
    "# get the items in the quirks column\n",
    "quirks = mech_list['quirks'].items\n",
    "\n",
    "# itterate through the quirks column and print the items\n",
    "for index, value in quirks():\n",
    "    value = value.split(',')\n"
   ],
   "metadata": {
    "collapsed": false
   }
  },
  {
   "cell_type": "code",
   "execution_count": 191,
   "outputs": [
    {
     "ename": "KeyboardInterrupt",
     "evalue": "",
     "output_type": "error",
     "traceback": [
      "\u001B[0;31m---------------------------------------------------------------------------\u001B[0m",
      "\u001B[0;31mKeyboardInterrupt\u001B[0m                         Traceback (most recent call last)",
      "Cell \u001B[0;32mIn[191], line 13\u001B[0m\n\u001B[1;32m     10\u001B[0m \u001B[38;5;66;03m# conver the list to a set to remove duplicates\u001B[39;00m\n\u001B[1;32m     11\u001B[0m value \u001B[38;5;241m=\u001B[39m \u001B[38;5;28mset\u001B[39m(value)\n\u001B[0;32m---> 13\u001B[0m \u001B[38;5;28;43mtype\u001B[39;49m(value)\n",
      "Cell \u001B[0;32mIn[191], line 13\u001B[0m\n\u001B[1;32m     10\u001B[0m \u001B[38;5;66;03m# conver the list to a set to remove duplicates\u001B[39;00m\n\u001B[1;32m     11\u001B[0m value \u001B[38;5;241m=\u001B[39m \u001B[38;5;28mset\u001B[39m(value)\n\u001B[0;32m---> 13\u001B[0m \u001B[38;5;28;43mtype\u001B[39;49m(value)\n",
      "File \u001B[0;32m_pydevd_bundle/pydevd_cython_darwin_39_64.pyx:1179\u001B[0m, in \u001B[0;36m_pydevd_bundle.pydevd_cython_darwin_39_64.SafeCallWrapper.__call__\u001B[0;34m()\u001B[0m\n",
      "File \u001B[0;32m_pydevd_bundle/pydevd_cython_darwin_39_64.pyx:620\u001B[0m, in \u001B[0;36m_pydevd_bundle.pydevd_cython_darwin_39_64.PyDBFrame.trace_dispatch\u001B[0;34m()\u001B[0m\n",
      "File \u001B[0;32m_pydevd_bundle/pydevd_cython_darwin_39_64.pyx:929\u001B[0m, in \u001B[0;36m_pydevd_bundle.pydevd_cython_darwin_39_64.PyDBFrame.trace_dispatch\u001B[0;34m()\u001B[0m\n",
      "File \u001B[0;32m_pydevd_bundle/pydevd_cython_darwin_39_64.pyx:920\u001B[0m, in \u001B[0;36m_pydevd_bundle.pydevd_cython_darwin_39_64.PyDBFrame.trace_dispatch\u001B[0;34m()\u001B[0m\n",
      "File \u001B[0;32m_pydevd_bundle/pydevd_cython_darwin_39_64.pyx:317\u001B[0m, in \u001B[0;36m_pydevd_bundle.pydevd_cython_darwin_39_64.PyDBFrame.do_wait_suspend\u001B[0;34m()\u001B[0m\n",
      "File \u001B[0;32m/Applications/PyCharm.app/Contents/plugins/python/helpers/pydev/pydevd.py:1160\u001B[0m, in \u001B[0;36mPyDB.do_wait_suspend\u001B[0;34m(self, thread, frame, event, arg, send_suspend_message, is_unhandled_exception)\u001B[0m\n\u001B[1;32m   1157\u001B[0m         from_this_thread\u001B[38;5;241m.\u001B[39mappend(frame_id)\n\u001B[1;32m   1159\u001B[0m \u001B[38;5;28;01mwith\u001B[39;00m \u001B[38;5;28mself\u001B[39m\u001B[38;5;241m.\u001B[39m_threads_suspended_single_notification\u001B[38;5;241m.\u001B[39mnotify_thread_suspended(thread_id, stop_reason):\n\u001B[0;32m-> 1160\u001B[0m     \u001B[38;5;28;43mself\u001B[39;49m\u001B[38;5;241;43m.\u001B[39;49m\u001B[43m_do_wait_suspend\u001B[49m\u001B[43m(\u001B[49m\u001B[43mthread\u001B[49m\u001B[43m,\u001B[49m\u001B[43m \u001B[49m\u001B[43mframe\u001B[49m\u001B[43m,\u001B[49m\u001B[43m \u001B[49m\u001B[43mevent\u001B[49m\u001B[43m,\u001B[49m\u001B[43m \u001B[49m\u001B[43marg\u001B[49m\u001B[43m,\u001B[49m\u001B[43m \u001B[49m\u001B[43msuspend_type\u001B[49m\u001B[43m,\u001B[49m\u001B[43m \u001B[49m\u001B[43mfrom_this_thread\u001B[49m\u001B[43m)\u001B[49m\n",
      "File \u001B[0;32m/Applications/PyCharm.app/Contents/plugins/python/helpers/pydev/pydevd.py:1175\u001B[0m, in \u001B[0;36mPyDB._do_wait_suspend\u001B[0;34m(self, thread, frame, event, arg, suspend_type, from_this_thread)\u001B[0m\n\u001B[1;32m   1172\u001B[0m             \u001B[38;5;28mself\u001B[39m\u001B[38;5;241m.\u001B[39m_call_mpl_hook()\n\u001B[1;32m   1174\u001B[0m         \u001B[38;5;28mself\u001B[39m\u001B[38;5;241m.\u001B[39mprocess_internal_commands()\n\u001B[0;32m-> 1175\u001B[0m         \u001B[43mtime\u001B[49m\u001B[38;5;241;43m.\u001B[39;49m\u001B[43msleep\u001B[49m\u001B[43m(\u001B[49m\u001B[38;5;241;43m0.01\u001B[39;49m\u001B[43m)\u001B[49m\n\u001B[1;32m   1177\u001B[0m \u001B[38;5;28mself\u001B[39m\u001B[38;5;241m.\u001B[39mcancel_async_evaluation(get_current_thread_id(thread), \u001B[38;5;28mstr\u001B[39m(\u001B[38;5;28mid\u001B[39m(frame)))\n\u001B[1;32m   1179\u001B[0m \u001B[38;5;66;03m# process any stepping instructions\u001B[39;00m\n",
      "\u001B[0;31mKeyboardInterrupt\u001B[0m: "
     ]
    }
   ],
   "source": [
    "for index, value in quirks():\n",
    "    # remove the ' and \" and [] from the string\n",
    "    value = value.replace(\"'\", \"\")\n",
    "    value = value.replace('\"', '')\n",
    "    value = value.replace('[', '')\n",
    "    value = value.replace(']', '')\n",
    "    # split the string into a list\n",
    "    value = value.split(',')\n",
    "\n",
    "    # conver the list to a set to remove duplicates\n",
    "    value = set(value)\n",
    "\n",
    "    type(value)"
   ],
   "metadata": {
    "collapsed": false
   }
  },
  {
   "cell_type": "code",
   "execution_count": 192,
   "outputs": [],
   "source": [
    "mech_list['quirks'] = mech_list['quirks'].apply(lambda x: set(x.replace(\" \", \"\").replace(\"'\", \"\").replace('\"', '').replace('[', '').replace(']', '').split(',')))"
   ],
   "metadata": {
    "collapsed": false
   }
  },
  {
   "cell_type": "code",
   "execution_count": 196,
   "outputs": [],
   "source": [
    "# remove empty items from the set\n",
    "mech_list['quirks'] = mech_list['quirks'].apply(lambda x: set(filter(None, x)))"
   ],
   "metadata": {
    "collapsed": false
   }
  },
  {
   "cell_type": "code",
   "execution_count": 194,
   "outputs": [
    {
     "data": {
      "text/plain": "                                 useSkinsFrom   \nmech                                            \nMarauderV_MDL  Mech.Assault.Marauderii.MAD-4A  \\\nMDV-DV                                    NaN   \nMDV-TR                                    NaN   \nMDV-5A                                    NaN   \nMDV-5B                                    NaN   \n...                                       ...   \nUM-K9 (S)                                 NaN   \nWHM-9D                                    NaN   \nWLF-1 (R)                                 NaN   \nWVR-6R (P)                                NaN   \nZEU-6Y                                    NaN   \n\n                                                          quirks comment  \nmech                                                                      \nMarauderV_MDL                               { MISSILEBOAT, MADV}     NaN  \nMDV-DV                         {MADV-HERO,  DIFFICULTTOMAINTAIN}     NaN  \nMDV-TR                         {MADV-HERO,  DIFFICULTTOMAINTAIN}     NaN  \nMDV-5A                                                        {}     NaN  \nMDV-5B                                                        {}     NaN  \n...                                                          ...     ...  \nUM-K9 (S)      { UM-ASSAULT, FULL-TWIST,  UM-K9,  NARROW-PROF...     NaN  \nWHM-9D                                                  {WHM-9D}     NaN  \nWLF-1 (R)                            {EASYTOMAINTAIN,  WLF-HERO}     NaN  \nWVR-6R (P)     { CRAMPED-COCKPIT, CMD-MECH,  PROTECTED-ACTUAT...     NaN  \nZEU-6Y                                      {IMP-COOLING-BINARY}     NaN  \n\n[302 rows x 3 columns]",
      "text/html": "<div>\n<style scoped>\n    .dataframe tbody tr th:only-of-type {\n        vertical-align: middle;\n    }\n\n    .dataframe tbody tr th {\n        vertical-align: top;\n    }\n\n    .dataframe thead th {\n        text-align: right;\n    }\n</style>\n<table border=\"1\" class=\"dataframe\">\n  <thead>\n    <tr style=\"text-align: right;\">\n      <th></th>\n      <th>useSkinsFrom</th>\n      <th>quirks</th>\n      <th>comment</th>\n    </tr>\n    <tr>\n      <th>mech</th>\n      <th></th>\n      <th></th>\n      <th></th>\n    </tr>\n  </thead>\n  <tbody>\n    <tr>\n      <th>MarauderV_MDL</th>\n      <td>Mech.Assault.Marauderii.MAD-4A</td>\n      <td>{ MISSILEBOAT, MADV}</td>\n      <td>NaN</td>\n    </tr>\n    <tr>\n      <th>MDV-DV</th>\n      <td>NaN</td>\n      <td>{MADV-HERO,  DIFFICULTTOMAINTAIN}</td>\n      <td>NaN</td>\n    </tr>\n    <tr>\n      <th>MDV-TR</th>\n      <td>NaN</td>\n      <td>{MADV-HERO,  DIFFICULTTOMAINTAIN}</td>\n      <td>NaN</td>\n    </tr>\n    <tr>\n      <th>MDV-5A</th>\n      <td>NaN</td>\n      <td>{}</td>\n      <td>NaN</td>\n    </tr>\n    <tr>\n      <th>MDV-5B</th>\n      <td>NaN</td>\n      <td>{}</td>\n      <td>NaN</td>\n    </tr>\n    <tr>\n      <th>...</th>\n      <td>...</td>\n      <td>...</td>\n      <td>...</td>\n    </tr>\n    <tr>\n      <th>UM-K9 (S)</th>\n      <td>NaN</td>\n      <td>{ UM-ASSAULT, FULL-TWIST,  UM-K9,  NARROW-PROF...</td>\n      <td>NaN</td>\n    </tr>\n    <tr>\n      <th>WHM-9D</th>\n      <td>NaN</td>\n      <td>{WHM-9D}</td>\n      <td>NaN</td>\n    </tr>\n    <tr>\n      <th>WLF-1 (R)</th>\n      <td>NaN</td>\n      <td>{EASYTOMAINTAIN,  WLF-HERO}</td>\n      <td>NaN</td>\n    </tr>\n    <tr>\n      <th>WVR-6R (P)</th>\n      <td>NaN</td>\n      <td>{ CRAMPED-COCKPIT, CMD-MECH,  PROTECTED-ACTUAT...</td>\n      <td>NaN</td>\n    </tr>\n    <tr>\n      <th>ZEU-6Y</th>\n      <td>NaN</td>\n      <td>{IMP-COOLING-BINARY}</td>\n      <td>NaN</td>\n    </tr>\n  </tbody>\n</table>\n<p>302 rows × 3 columns</p>\n</div>"
     },
     "execution_count": 194,
     "metadata": {},
     "output_type": "execute_result"
    }
   ],
   "source": [
    "mech_list"
   ],
   "metadata": {
    "collapsed": false
   }
  },
  {
   "cell_type": "code",
   "execution_count": 204,
   "outputs": [],
   "source": [
    "# write out the dataframe to a json file\n",
    "# mech_list = mech_list.transpose()\n",
    "mech_list.to_json('Files/Output/mechs.json', orient='index', indent=4)"
   ],
   "metadata": {
    "collapsed": false
   }
  },
  {
   "cell_type": "code",
   "execution_count": null,
   "outputs": [],
   "source": [],
   "metadata": {
    "collapsed": false
   }
  }
 ],
 "metadata": {
  "kernelspec": {
   "display_name": "Python 3",
   "language": "python",
   "name": "python3"
  },
  "language_info": {
   "codemirror_mode": {
    "name": "ipython",
    "version": 2
   },
   "file_extension": ".py",
   "mimetype": "text/x-python",
   "name": "python",
   "nbconvert_exporter": "python",
   "pygments_lexer": "ipython2",
   "version": "2.7.6"
  }
 },
 "nbformat": 4,
 "nbformat_minor": 0
}
